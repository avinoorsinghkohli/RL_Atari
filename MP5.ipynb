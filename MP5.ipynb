{
  "cells": [
    {
      "cell_type": "markdown",
      "source": [
        "Intialising the notebook and folder"
      ],
      "metadata": {
        "id": "9Yar48yqGpfA"
      }
    },
    {
      "cell_type": "code",
      "source": [
        "from google.colab import drive\n",
        "import os\n",
        "drive.mount(\"/content/drive\")\n",
        "datadir = \"/content/drive/MyDrive/CS444/assignment5_materials\"\n",
        "os.chdir(datadir)\n",
        "!pwd"
      ],
      "metadata": {
        "colab": {
          "base_uri": "https://localhost:8080/"
        },
        "id": "FaSoKw17GnXW",
        "outputId": "b2a7ba06-cdc6-4ed0-8f69-db7fa7558023"
      },
      "execution_count": 1,
      "outputs": [
        {
          "output_type": "stream",
          "name": "stdout",
          "text": [
            "Drive already mounted at /content/drive; to attempt to forcibly remount, call drive.mount(\"/content/drive\", force_remount=True).\n",
            "/content/drive/MyDrive/CS444/assignment5_materials\n"
          ]
        }
      ]
    },
    {
      "cell_type": "markdown",
      "metadata": {
        "id": "XC64UU4f5e_u"
      },
      "source": [
        "# Deep Q-Learning"
      ]
    },
    {
      "cell_type": "markdown",
      "metadata": {
        "id": "PK0XsHWr5e_x"
      },
      "source": [
        "Install dependencies for AI gym to run properly (shouldn't take more than a minute). If running on google cloud or running locally, only need to run once. Colab may require installing everytime the vm shuts down."
      ]
    },
    {
      "cell_type": "code",
      "execution_count": 4,
      "metadata": {
        "colab": {
          "base_uri": "https://localhost:8080/"
        },
        "id": "fYZDCZ7t5e_y",
        "outputId": "0f12fbe7-20ea-4965-ac28-0a9ee47bb3b5"
      },
      "outputs": [
        {
          "output_type": "stream",
          "name": "stdout",
          "text": [
            "Requirement already satisfied: gym==0.26.2 in /usr/local/lib/python3.10/dist-packages (0.26.2)\n",
            "Requirement already satisfied: gym-notices==0.0.8 in /usr/local/lib/python3.10/dist-packages (0.0.8)\n",
            "Requirement already satisfied: numpy>=1.18.0 in /usr/local/lib/python3.10/dist-packages (from gym==0.26.2) (1.25.2)\n",
            "Requirement already satisfied: cloudpickle>=1.2.0 in /usr/local/lib/python3.10/dist-packages (from gym==0.26.2) (2.2.1)\n",
            "Reading package lists... Done\n",
            "Building dependency tree... Done\n",
            "Reading state information... Done\n",
            "E: Unable to locate package python-opengl\n"
          ]
        }
      ],
      "source": [
        "!pip3 install gym==0.26.2 gym-notices==0.0.8\n",
        "!sudo apt-get install -y xvfb python-opengl ffmpeg"
      ]
    },
    {
      "cell_type": "code",
      "source": [
        "!pip3 install gym pyvirtualdisplay\n",
        "!pip install xvfbwrapper pyvirtualdisplay PyOpenGL ffmpeg-python"
      ],
      "metadata": {
        "colab": {
          "base_uri": "https://localhost:8080/"
        },
        "id": "8vtTvhf5THQ3",
        "outputId": "aa0e9784-9eaa-4093-fd94-8bf8b14d21a2"
      },
      "execution_count": 5,
      "outputs": [
        {
          "output_type": "stream",
          "name": "stdout",
          "text": [
            "Requirement already satisfied: gym in /usr/local/lib/python3.10/dist-packages (0.26.2)\n",
            "Requirement already satisfied: pyvirtualdisplay in /usr/local/lib/python3.10/dist-packages (3.0)\n",
            "Requirement already satisfied: numpy>=1.18.0 in /usr/local/lib/python3.10/dist-packages (from gym) (1.25.2)\n",
            "Requirement already satisfied: cloudpickle>=1.2.0 in /usr/local/lib/python3.10/dist-packages (from gym) (2.2.1)\n",
            "Requirement already satisfied: gym-notices>=0.0.4 in /usr/local/lib/python3.10/dist-packages (from gym) (0.0.8)\n",
            "Requirement already satisfied: xvfbwrapper in /usr/local/lib/python3.10/dist-packages (0.2.9)\n",
            "Requirement already satisfied: pyvirtualdisplay in /usr/local/lib/python3.10/dist-packages (3.0)\n",
            "Requirement already satisfied: PyOpenGL in /usr/local/lib/python3.10/dist-packages (3.1.7)\n",
            "Requirement already satisfied: ffmpeg-python in /usr/local/lib/python3.10/dist-packages (0.2.0)\n",
            "Requirement already satisfied: future in /usr/local/lib/python3.10/dist-packages (from ffmpeg-python) (0.18.3)\n"
          ]
        }
      ]
    },
    {
      "cell_type": "code",
      "execution_count": 6,
      "metadata": {
        "colab": {
          "base_uri": "https://localhost:8080/"
        },
        "id": "wB39Yv6W5e_z",
        "outputId": "c4777c86-7082-40d3-9078-db5dfafc9c1e"
      },
      "outputs": [
        {
          "output_type": "stream",
          "name": "stdout",
          "text": [
            "Requirement already satisfied: setuptools in /root/.local/lib/python3.10/site-packages (69.5.1)\n",
            "Collecting ez_setup\n",
            "  Using cached ez_setup-0.9-py3-none-any.whl\n",
            "Installing collected packages: ez_setup\n",
            "Successfully installed ez_setup-0.9\n",
            "Requirement already satisfied: gym[atari] in /usr/local/lib/python3.10/dist-packages (0.26.2)\n",
            "Requirement already satisfied: numpy>=1.18.0 in /usr/local/lib/python3.10/dist-packages (from gym[atari]) (1.25.2)\n",
            "Requirement already satisfied: cloudpickle>=1.2.0 in /usr/local/lib/python3.10/dist-packages (from gym[atari]) (2.2.1)\n",
            "Requirement already satisfied: gym-notices>=0.0.4 in /usr/local/lib/python3.10/dist-packages (from gym[atari]) (0.0.8)\n",
            "Requirement already satisfied: ale-py~=0.8.0 in /usr/local/lib/python3.10/dist-packages (from gym[atari]) (0.8.1)\n",
            "Requirement already satisfied: importlib-resources in /usr/local/lib/python3.10/dist-packages (from ale-py~=0.8.0->gym[atari]) (6.4.0)\n",
            "Requirement already satisfied: typing-extensions in /usr/local/lib/python3.10/dist-packages (from ale-py~=0.8.0->gym[atari]) (4.11.0)\n",
            "Requirement already satisfied: gym[accept-rom-license] in /usr/local/lib/python3.10/dist-packages (0.26.2)\n",
            "Requirement already satisfied: numpy>=1.18.0 in /usr/local/lib/python3.10/dist-packages (from gym[accept-rom-license]) (1.25.2)\n",
            "Requirement already satisfied: cloudpickle>=1.2.0 in /usr/local/lib/python3.10/dist-packages (from gym[accept-rom-license]) (2.2.1)\n",
            "Requirement already satisfied: gym-notices>=0.0.4 in /usr/local/lib/python3.10/dist-packages (from gym[accept-rom-license]) (0.0.8)\n",
            "Collecting autorom[accept-rom-license]~=0.4.2 (from gym[accept-rom-license])\n",
            "  Downloading AutoROM-0.4.2-py3-none-any.whl (16 kB)\n",
            "Requirement already satisfied: click in /usr/local/lib/python3.10/dist-packages (from autorom[accept-rom-license]~=0.4.2->gym[accept-rom-license]) (8.1.7)\n",
            "Requirement already satisfied: requests in /usr/local/lib/python3.10/dist-packages (from autorom[accept-rom-license]~=0.4.2->gym[accept-rom-license]) (2.31.0)\n",
            "Requirement already satisfied: tqdm in /usr/local/lib/python3.10/dist-packages (from autorom[accept-rom-license]~=0.4.2->gym[accept-rom-license]) (4.66.2)\n",
            "Collecting AutoROM.accept-rom-license (from autorom[accept-rom-license]~=0.4.2->gym[accept-rom-license])\n",
            "  Downloading AutoROM.accept-rom-license-0.6.1.tar.gz (434 kB)\n",
            "\u001b[2K     \u001b[90m━━━━━━━━━━━━━━━━━━━━━━━━━━━━━━━━━━━━━━━━\u001b[0m \u001b[32m434.7/434.7 kB\u001b[0m \u001b[31m6.8 MB/s\u001b[0m eta \u001b[36m0:00:00\u001b[0m\n",
            "\u001b[?25h  Installing build dependencies ... \u001b[?25l\u001b[?25hdone\n",
            "  Getting requirements to build wheel ... \u001b[?25l\u001b[?25hdone\n",
            "  Preparing metadata (pyproject.toml) ... \u001b[?25l\u001b[?25hdone\n",
            "Requirement already satisfied: charset-normalizer<4,>=2 in /usr/local/lib/python3.10/dist-packages (from requests->autorom[accept-rom-license]~=0.4.2->gym[accept-rom-license]) (3.3.2)\n",
            "Requirement already satisfied: idna<4,>=2.5 in /usr/local/lib/python3.10/dist-packages (from requests->autorom[accept-rom-license]~=0.4.2->gym[accept-rom-license]) (3.7)\n",
            "Requirement already satisfied: urllib3<3,>=1.21.1 in /usr/local/lib/python3.10/dist-packages (from requests->autorom[accept-rom-license]~=0.4.2->gym[accept-rom-license]) (2.0.7)\n",
            "Requirement already satisfied: certifi>=2017.4.17 in /usr/local/lib/python3.10/dist-packages (from requests->autorom[accept-rom-license]~=0.4.2->gym[accept-rom-license]) (2024.2.2)\n",
            "Building wheels for collected packages: AutoROM.accept-rom-license\n",
            "  Building wheel for AutoROM.accept-rom-license (pyproject.toml) ... \u001b[?25l\u001b[?25hdone\n",
            "  Created wheel for AutoROM.accept-rom-license: filename=AutoROM.accept_rom_license-0.6.1-py3-none-any.whl size=446659 sha256=fdf9ec6e0f4c28d83d880202d671364cadea3441b62444c8544566e3a73d582a\n",
            "  Stored in directory: /root/.cache/pip/wheels/6b/1b/ef/a43ff1a2f1736d5711faa1ba4c1f61be1131b8899e6a057811\n",
            "Successfully built AutoROM.accept-rom-license\n",
            "Installing collected packages: AutoROM.accept-rom-license, autorom\n",
            "Successfully installed AutoROM.accept-rom-license-0.6.1 autorom-0.4.2\n"
          ]
        }
      ],
      "source": [
        "!pip3 install --upgrade setuptools --user\n",
        "!pip3 install ez_setup\n",
        "!pip3 install gym[atari]\n",
        "!pip3 install gym[accept-rom-license]"
      ]
    },
    {
      "cell_type": "markdown",
      "metadata": {
        "id": "wqq7Am1x5e_0"
      },
      "source": [
        "For this assignment we will implement the Deep Q-Learning algorithm with Experience Replay as described in breakthrough paper __\"Playing Atari with Deep Reinforcement Learning\"__. We will train an agent to play the famous game of __Breakout__."
      ]
    },
    {
      "cell_type": "code",
      "execution_count": 17,
      "metadata": {
        "id": "l6N_UFgF5e_0",
        "colab": {
          "base_uri": "https://localhost:8080/"
        },
        "outputId": "af251297-6758-46d6-e39a-39e8aa19572f"
      },
      "outputs": [
        {
          "output_type": "stream",
          "name": "stdout",
          "text": [
            "The autoreload extension is already loaded. To reload it, use:\n",
            "  %reload_ext autoreload\n"
          ]
        }
      ],
      "source": [
        "%matplotlib inline\n",
        "\n",
        "import sys\n",
        "import gym\n",
        "import torch\n",
        "import pylab\n",
        "import random\n",
        "import numpy as np\n",
        "from collections import deque\n",
        "from datetime import datetime\n",
        "from copy import deepcopy\n",
        "import torch.nn as nn\n",
        "import torch.optim as optim\n",
        "import torch.nn.functional as F\n",
        "from torch.autograd import Variable\n",
        "from utils import find_max_lives, check_live, get_frame, get_init_state\n",
        "from model import DQN, DQN_LSTM\n",
        "from config import *\n",
        "\n",
        "import matplotlib.pyplot as plt\n",
        "%load_ext autoreload\n",
        "%autoreload 2"
      ]
    },
    {
      "cell_type": "markdown",
      "metadata": {
        "id": "mUzpRkRV5e_0"
      },
      "source": [
        "## Understanding the environment"
      ]
    },
    {
      "cell_type": "markdown",
      "metadata": {
        "id": "fGBe-hGS5e_1"
      },
      "source": [
        "In the following cell, we initialize our game of __Breakout__ and you can see how the environment looks like. For further documentation of the of the environment refer to https://gym.openai.com/envs.\n",
        "\n",
        "In breakout, we will use 3 actions \"fire\", \"left\", and \"right\". \"fire\" is only used to reset the game when a life is lost, \"left\" moves the agent left and \"right\" moves the agent right."
      ]
    },
    {
      "cell_type": "code",
      "execution_count": 18,
      "metadata": {
        "id": "k9FfBL5j5e_1"
      },
      "outputs": [],
      "source": [
        "env = gym.make('BreakoutDeterministic-v4')\n",
        "state = env.reset()"
      ]
    },
    {
      "cell_type": "code",
      "execution_count": 19,
      "metadata": {
        "colab": {
          "base_uri": "https://localhost:8080/"
        },
        "id": "iboaQjph5e_1",
        "outputId": "c3e4e39f-144a-4796-ec8f-fd24d29f90c6"
      },
      "outputs": [
        {
          "output_type": "stream",
          "name": "stderr",
          "text": [
            "/usr/local/lib/python3.10/dist-packages/gym/utils/passive_env_checker.py:233: DeprecationWarning: `np.bool8` is a deprecated alias for `np.bool_`.  (Deprecated NumPy 1.24)\n",
            "  if not isinstance(terminated, (bool, np.bool8)):\n"
          ]
        }
      ],
      "source": [
        "number_lives = find_max_lives(env)\n",
        "state_size = env.observation_space.shape\n",
        "action_size = 3 #fire, left, and right"
      ]
    },
    {
      "cell_type": "markdown",
      "metadata": {
        "id": "4S0D_LO25e_2"
      },
      "source": [
        "## Creating a DQN Agent"
      ]
    },
    {
      "cell_type": "markdown",
      "metadata": {
        "id": "X7YZKIxn5e_2"
      },
      "source": [
        "Here we create a DQN Agent. This agent is defined in the __agent.py__. The corresponding neural network is defined in the __model.py__. Once you've created a working DQN agent, use the code in agent.py to create a double DQN agent in __agent_double.py__. Set the flag \"double_dqn\" to True to train the double DQN agent.\n",
        "\n",
        "__Evaluation Reward__ : The average reward received in the past 100 episodes/games.\n",
        "\n",
        "__Frame__ : Number of frames processed in total.\n",
        "\n",
        "__Memory Size__ : The current size of the replay memory."
      ]
    },
    {
      "cell_type": "code",
      "execution_count": 22,
      "metadata": {
        "id": "L5-GlahX5e_2"
      },
      "outputs": [],
      "source": [
        "double_dqn = False # set to True if using double DQN agent\n",
        "\n",
        "if double_dqn:\n",
        "    from agent_double import Agent\n",
        "else:\n",
        "    from agent import Agent\n",
        "\n",
        "agent = Agent(action_size)\n",
        "evaluation_reward = deque(maxlen=evaluation_reward_length)\n",
        "frame = 0\n",
        "memory_size = 0"
      ]
    },
    {
      "cell_type": "markdown",
      "metadata": {
        "id": "fl99blVf5e_2"
      },
      "source": [
        "### Main Training Loop"
      ]
    },
    {
      "cell_type": "markdown",
      "metadata": {
        "id": "Y0_GK3V75e_2"
      },
      "source": [
        "In this training loop, we do not render the screen because it slows down training signficantly. To watch the agent play the game, run the code in next section \"Visualize Agent Performance\""
      ]
    },
    {
      "cell_type": "code",
      "execution_count": null,
      "metadata": {
        "scrolled": true,
        "id": "iScNN_-85e_2"
      },
      "outputs": [],
      "source": [
        "rewards, episodes = [], []\n",
        "best_eval_reward = 0\n",
        "for e in range(EPISODES):\n",
        "    done = False\n",
        "    score = 0\n",
        "\n",
        "    history = np.zeros([5, 84, 84], dtype=np.uint8)\n",
        "    step = 0\n",
        "    state, _ = env.reset()\n",
        "    next_state = state\n",
        "    life = number_lives\n",
        "\n",
        "    get_init_state(history, state, HISTORY_SIZE)\n",
        "\n",
        "    while not done:\n",
        "        step += 1\n",
        "        frame += 1\n",
        "\n",
        "        # Perform a fire action if ball is no longer on screen to continue onto next life\n",
        "        if step > 1 and len(np.unique(next_state[:189] == state[:189])) < 2:\n",
        "            action = torch.tensor([[0]]).cuda()\n",
        "        else:\n",
        "            action = agent.get_action(np.float32(history[:4, :, :]) / 255.)\n",
        "        state = next_state\n",
        "        next_state, reward, terminated, truncated, info = env.step(action + 1)\n",
        "        done = terminated or truncated\n",
        "\n",
        "        frame_next_state = get_frame(next_state)\n",
        "        history[4, :, :] = frame_next_state\n",
        "        terminal_state = check_live(life, info['lives'])\n",
        "\n",
        "        life = info['lives']\n",
        "        r = reward\n",
        "\n",
        "        # Store the transition in memory\n",
        "        agent.memory.push(deepcopy(frame_next_state), action.cpu(), r, terminal_state)\n",
        "        # Start training after random sample generation\n",
        "        if(frame >= train_frame): # You can set train_frame to a lower value while testing your starts training earlier\n",
        "            agent.train_policy_net(frame)\n",
        "            # Update the target network only for Double DQN only\n",
        "            if double_dqn and (frame % update_target_network_frequency)== 0:\n",
        "                agent.update_target_net()\n",
        "        score += reward\n",
        "        history[:4, :, :] = history[1:, :, :]\n",
        "\n",
        "        if done:\n",
        "            evaluation_reward.append(score)\n",
        "            rewards.append(np.mean(evaluation_reward))\n",
        "            episodes.append(e)\n",
        "            pylab.plot(episodes, rewards, 'b')\n",
        "            pylab.xlabel('Episodes')\n",
        "            pylab.ylabel('Rewards')\n",
        "            pylab.title('Episodes vs Reward')\n",
        "            pylab.savefig(\"./save_graph/breakout_dqn.png\") # save graph for training visualization\n",
        "\n",
        "            # every episode, plot the play time\n",
        "            print(\"episode:\", e, \"  score:\", score, \"  memory length:\",\n",
        "                  len(agent.memory), \"  epsilon:\", agent.epsilon, \"   steps:\", step,\n",
        "                  \"   lr:\", agent.optimizer.param_groups[0]['lr'], \"    evaluation reward:\", np.mean(evaluation_reward))\n",
        "\n",
        "            # if the mean of scores of last 100 episode is bigger than 5 save model\n",
        "            ### Change this save condition to whatever you prefer ###\n",
        "            if np.mean(evaluation_reward) > 5 and np.mean(evaluation_reward) > best_eval_reward:\n",
        "                # print(\"hi\")\n",
        "                torch.save(agent.policy_net, \"./save_model/breakout_dqn.pth\")\n",
        "                best_eval_reward = np.mean(evaluation_reward)\n"
      ]
    },
    {
      "cell_type": "markdown",
      "metadata": {
        "id": "Z5ev0UH45e_3"
      },
      "source": [
        "# Visualize Agent Performance"
      ]
    },
    {
      "cell_type": "markdown",
      "metadata": {
        "id": "fuzUdssS5e_3"
      },
      "source": [
        "BE AWARE THIS CODE BELOW MAY CRASH THE KERNEL IF YOU RUN THE SAME CELL TWICE.\n",
        "\n",
        "Please save your model before running this portion of the code."
      ]
    },
    {
      "cell_type": "code",
      "execution_count": 9,
      "metadata": {
        "id": "nuQcUwpr5e_3"
      },
      "outputs": [],
      "source": [
        "torch.save(agent.policy_net, \"./save_model/breakout_dqn_double.pth\")"
      ]
    },
    {
      "cell_type": "code",
      "execution_count": 23,
      "metadata": {
        "id": "dzF8x3JD5e_3",
        "colab": {
          "base_uri": "https://localhost:8080/",
          "height": 746
        },
        "outputId": "5a34c976-8d82-4323-d0e5-a765a34e601e"
      },
      "outputs": [
        {
          "output_type": "stream",
          "name": "stdout",
          "text": [
            "Reading package lists... Done\n",
            "Building dependency tree... Done\n",
            "Reading state information... Done\n",
            "xvfb is already the newest version (2:21.1.4-2ubuntu1.7~22.04.10).\n",
            "0 upgraded, 0 newly installed, 0 to remove and 45 not upgraded.\n"
          ]
        },
        {
          "output_type": "stream",
          "name": "stderr",
          "text": [
            "/usr/local/lib/python3.10/dist-packages/gym/utils/passive_env_checker.py:233: DeprecationWarning: `np.bool8` is a deprecated alias for `np.bool_`.  (Deprecated NumPy 1.24)\n",
            "  if not isinstance(terminated, (bool, np.bool8)):\n",
            "/usr/local/lib/python3.10/dist-packages/gym/wrappers/record_video.py:75: UserWarning: \u001b[33mWARN: Overwriting existing videos at /content/drive/MyDrive/CS444/assignment5_materials/video folder (try specifying a different `video_folder` for the `RecordVideo` wrapper if this is not desired)\u001b[0m\n",
            "  logger.warn(\n",
            "/usr/local/lib/python3.10/dist-packages/gym/utils/passive_env_checker.py:289: UserWarning: \u001b[33mWARN: No render fps was declared in the environment (env.metadata['render_fps'] is None or not defined), rendering may occur at inconsistent fps.\u001b[0m\n",
            "  logger.warn(\n"
          ]
        },
        {
          "output_type": "stream",
          "name": "stdout",
          "text": [
            "Moviepy - Building video /content/drive/MyDrive/CS444/assignment5_materials/video/rl-video-episode-0.mp4.\n",
            "Moviepy - Writing video /content/drive/MyDrive/CS444/assignment5_materials/video/rl-video-episode-0.mp4\n",
            "\n"
          ]
        },
        {
          "output_type": "stream",
          "name": "stderr",
          "text": [
            "                                                                "
          ]
        },
        {
          "output_type": "stream",
          "name": "stdout",
          "text": [
            "Moviepy - Done !\n",
            "Moviepy - video ready /content/drive/MyDrive/CS444/assignment5_materials/video/rl-video-episode-0.mp4\n"
          ]
        },
        {
          "output_type": "stream",
          "name": "stderr",
          "text": [
            "\r"
          ]
        },
        {
          "output_type": "display_data",
          "data": {
            "text/plain": [
              "<IPython.core.display.HTML object>"
            ],
            "text/html": [
              "<video alt=\"test\" autoplay\n",
              "                loop controls style=\"height: 400px;\">\n",
              "                <source src=\"data:video/mp4;base64,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\" type=\"video/mp4\" />\n",
              "             </video>"
            ]
          },
          "metadata": {}
        },
        {
          "output_type": "execute_result",
          "data": {
            "text/plain": [
              "<pyvirtualdisplay.display.Display at 0x7eafe3fd9ab0>"
            ]
          },
          "metadata": {},
          "execution_count": 23
        }
      ],
      "source": [
        "!sudo apt-get install xvfb\n",
        "import sys\n",
        "import gym\n",
        "import torch\n",
        "import pylab\n",
        "import random\n",
        "import numpy as np\n",
        "from collections import deque\n",
        "from datetime import datetime\n",
        "from copy import deepcopy\n",
        "import torch.nn as nn\n",
        "import torch.optim as optim\n",
        "import torch.nn.functional as F\n",
        "from torch.autograd import Variable\n",
        "from torch.utils.tensorboard import SummaryWriter\n",
        "from utils import find_max_lives, check_live, get_frame, get_init_state\n",
        "from model import DQN, DQN_LSTM\n",
        "from config import *\n",
        "\n",
        "import matplotlib.pyplot as plt\n",
        "# %load_ext autoreload\n",
        "# %autoreload 2\n",
        "\n",
        "from gym.wrappers import RecordVideo # If importing monitor raises issues, try using `from gym.wrappers import RecordVideo`\n",
        "import glob\n",
        "import io\n",
        "import base64\n",
        "\n",
        "from IPython.display import HTML\n",
        "from IPython import display as ipythondisplay\n",
        "\n",
        "from pyvirtualdisplay import Display\n",
        "\n",
        "env = gym.make('BreakoutDeterministic-v4', render_mode='rgb_array')\n",
        "state = env.reset()\n",
        "number_lives = find_max_lives(env)\n",
        "state_size = env.observation_space.shape\n",
        "action_size = 3 #fire, left, and right\n",
        "\n",
        "# Displaying the game live\n",
        "def show_state(env, step=0, info=\"\"):\n",
        "    plt.figure(3)\n",
        "    plt.clf()\n",
        "    plt.imshow(env.render(mode='rgb_array'))\n",
        "    plt.title(\"%s | Step: %d %s\" % (\"Agent Playing\",step, info))\n",
        "    plt.axis('off')\n",
        "\n",
        "    ipythondisplay.clear_output(wait=True)\n",
        "    ipythondisplay.display(plt.gcf())\n",
        "\n",
        "# Recording the game and replaying the game afterwards\n",
        "def show_video():\n",
        "    mp4list = glob.glob('video/*.mp4')\n",
        "    if len(mp4list) > 0:\n",
        "        mp4 = mp4list[0]\n",
        "        video = io.open(mp4, 'r+b').read()\n",
        "        encoded = base64.b64encode(video)\n",
        "        ipythondisplay.display(HTML(data='''<video alt=\"test\" autoplay\n",
        "                loop controls style=\"height: 400px;\">\n",
        "                <source src=\"data:video/mp4;base64,{0}\" type=\"video/mp4\" />\n",
        "             </video>'''.format(encoded.decode('ascii'))))\n",
        "    else:\n",
        "        print(\"Could not find video\")\n",
        "\n",
        "\n",
        "def wrap_env(env):\n",
        "    env = RecordVideo(env, './video')\n",
        "    return env\n",
        "\n",
        "from agent import Agent\n",
        "action_size = 3\n",
        "\n",
        "display = Display(visible=0, size=(300, 200))\n",
        "display.start()\n",
        "\n",
        "# Load agent\n",
        "agent = Agent(action_size)\n",
        "agent.load_policy_net(\"./save_model/breakout_dqn_lstm.pth\")\n",
        "agent.epsilon = 0.0 # Set agent to only exploit the best action\n",
        "\n",
        "env = wrap_env(env)\n",
        "\n",
        "done = False\n",
        "score = 0\n",
        "step = 0\n",
        "state, _ = env.reset()\n",
        "next_state = state\n",
        "life = number_lives\n",
        "history = np.zeros([5, 84, 84], dtype=np.uint8)\n",
        "get_init_state(history, state, HISTORY_SIZE)\n",
        "frame = 0\n",
        "while not done:\n",
        "#     show_state(env,step) # uncommenting this provides another way to visualize the game\n",
        "    step += 1\n",
        "    frame += 1\n",
        "\n",
        "    # Perform a fire action if ball is no longer on screen\n",
        "    if step > 1 and len(np.unique(next_state[:189] == state[:189])) < 2:\n",
        "        action = 0\n",
        "    else:\n",
        "        action = agent.get_action(np.float32(history[:4, :, :]) / 255.)\n",
        "    state = next_state\n",
        "\n",
        "    next_state, reward, done, _, info = env.step(action + 1)\n",
        "\n",
        "    frame_next_state = get_frame(next_state)\n",
        "    history[4, :, :] = frame_next_state\n",
        "    terminal_state = check_live(life, info['lives'])\n",
        "\n",
        "    life = info['lives']\n",
        "    r = np.clip(reward, -1, 1)\n",
        "    r = reward\n",
        "\n",
        "    # Store the transition in memory\n",
        "    agent.memory.push(deepcopy(frame_next_state), action, r, terminal_state)\n",
        "    # Start training after random sample generation\n",
        "    score += reward\n",
        "\n",
        "    history[:4, :, :] = history[1:, :, :]\n",
        "env.close()\n",
        "show_video()\n",
        "display.stop()"
      ]
    },
    {
      "cell_type": "code",
      "source": [],
      "metadata": {
        "id": "VunARedX4nmp"
      },
      "execution_count": null,
      "outputs": []
    }
  ],
  "metadata": {
    "kernelspec": {
      "display_name": "Python 3",
      "name": "python3"
    },
    "language_info": {
      "codemirror_mode": {
        "name": "ipython",
        "version": 3
      },
      "file_extension": ".py",
      "mimetype": "text/x-python",
      "name": "python",
      "nbconvert_exporter": "python",
      "pygments_lexer": "ipython3",
      "version": "3.7.6"
    },
    "colab": {
      "provenance": [],
      "gpuType": "T4"
    },
    "accelerator": "GPU"
  },
  "nbformat": 4,
  "nbformat_minor": 0
}